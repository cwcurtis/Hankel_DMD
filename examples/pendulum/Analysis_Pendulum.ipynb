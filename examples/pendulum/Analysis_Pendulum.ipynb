{
 "cells": [
  {
   "cell_type": "code",
   "execution_count": 1,
   "metadata": {},
   "outputs": [],
   "source": [
    "import pickle\n",
    "import numpy as np\n",
    "import tensorflow as tf\n",
    "import matplotlib.pyplot as plt\n",
    "import matplotlib\n",
    "\n",
    "import sys\n",
    "sys.path.insert(0, '../../')\n",
    "import DLDMD as dl\n",
    "import LossDLDMD as lf\n",
    "import Data as dat\n",
    "import Training as tr\n",
    "\n",
    "%matplotlib inline"
   ]
  },
  {
   "cell_type": "code",
   "execution_count": 2,
   "metadata": {
    "scrolled": true
   },
   "outputs": [],
   "source": [
    "def edmd(x, num_pred):\n",
    "    x = tf.transpose(x, perm=[0, 2, 1])\n",
    "    x_m = x[:, :, :-1]\n",
    "    x_p = x[:, :, 1:]\n",
    "    \n",
    "    S, U, V = tf.linalg.svd(x_m, compute_uv=True, full_matrices=False)\n",
    "    sm = np.max(S)\n",
    "    r = S.shape[-1]\n",
    "    Sri = tf.linalg.diag(1./S[:, :r])\n",
    "    Ur = U[:, :, :r]\n",
    "    Urh = tf.linalg.adjoint(Ur)\n",
    "    Vr = V[:, :, :r]\n",
    "    \n",
    "    kmat = x_p @ Vr @ Sri @ Urh\n",
    "    evals, evecs = tf.linalg.eig(kmat)\n",
    "    phim = tf.linalg.solve(evecs, tf.cast(x_m, dtype=tf.complex128))\n",
    "    x0 = phim[:, :, 0]\n",
    "    x0 = x0[:, :, tf.newaxis]\n",
    "    \n",
    "    pred = tf.TensorArray(tf.complex128, size=num_pred)\n",
    "    pred = pred.write(0, evecs @ x0)\n",
    "    evals_iter = tf.identity(evals)\n",
    "    for ii in range(num_pred):\n",
    "        tmp = evecs @ tf.linalg.diag(evals_iter) @ x0\n",
    "        pred = pred.write(ii, tmp)\n",
    "        evals_iter = evals_iter * evals\n",
    "    pred = tf.transpose(tf.squeeze(pred.stack()), perm=[1, 2, 0])\n",
    "    return phim, evals, evecs, pred"
   ]
  },
  {
   "cell_type": "markdown",
   "metadata": {},
   "source": [
    "# Setup"
   ]
  },
  {
   "cell_type": "code",
   "execution_count": 4,
   "metadata": {},
   "outputs": [
    {
     "name": "stdout",
     "output_type": "stream",
     "text": [
      "TensorFlow version: 2.7.0\n",
      "Eager execution: True\n",
      "Num GPUs available: 0\n",
      "Training at precision: float64\n",
      "Training on device: /CPU:0\n"
     ]
    }
   ],
   "source": [
    "# Figure parameters\n",
    "plot_save_path = './analysis_results/'\n",
    "font = {'family': 'DejaVu Sans', 'size': 18}\n",
    "matplotlib.rc('font', **font)\n",
    "fontsize = 18\n",
    "figsize = (15, 10)\n",
    "dpisave = 300\n",
    "\n",
    "# Initialize the compute device\n",
    "DEVICE = '/GPU:0'\n",
    "GPUS = tf.config.experimental.list_physical_devices('GPU')\n",
    "if GPUS:\n",
    "    try:\n",
    "        for gpu in GPUS:\n",
    "            tf.config.experimental.set_memory_growth(gpu, True)\n",
    "    except RuntimeError as e:\n",
    "        print(e)\n",
    "else:\n",
    "    DEVICE = '/CPU:0'\n",
    "    \n",
    "tf.keras.backend.set_floatx('float64')  # !! Set precision for the entire model here\n",
    "print(\"TensorFlow version: {}\".format(tf.__version__))\n",
    "print(\"Eager execution: {}\".format(tf.executing_eagerly()))\n",
    "print(\"Num GPUs available: {}\".format(len(GPUS)))\n",
    "print(\"Training at precision: {}\".format(tf.keras.backend.floatx()))\n",
    "print(\"Training on device: {}\".format(DEVICE))"
   ]
  },
  {
   "cell_type": "markdown",
   "metadata": {},
   "source": [
    "# Load model and data"
   ]
  },
  {
   "cell_type": "code",
   "execution_count": 8,
   "metadata": {
    "jupyter": {
     "outputs_hidden": false
    },
    "pycharm": {
     "name": "#%%\n"
    }
   },
   "outputs": [
    {
     "name": "stdout",
     "output_type": "stream",
     "text": [
      "Using precision: float64\n",
      "\n"
     ]
    },
    {
     "ename": "FileNotFoundError",
     "evalue": "[Errno 2] No such file or directory: 'evenly_spaced_trajs.pkl'",
     "output_type": "error",
     "traceback": [
      "\u001b[1;31m---------------------------------------------------------------------------\u001b[0m",
      "\u001b[1;31mFileNotFoundError\u001b[0m                         Traceback (most recent call last)",
      "\u001b[1;32m~\\AppData\\Local\\Temp/ipykernel_6340/3195936872.py\u001b[0m in \u001b[0;36m<module>\u001b[1;34m\u001b[0m\n\u001b[0;32m     12\u001b[0m \u001b[1;33m\u001b[0m\u001b[0m\n\u001b[0;32m     13\u001b[0m \u001b[1;31m# Load evenly spaced rings for test trajectories\u001b[0m\u001b[1;33m\u001b[0m\u001b[1;33m\u001b[0m\u001b[0m\n\u001b[1;32m---> 14\u001b[1;33m \u001b[0mtest_data\u001b[0m \u001b[1;33m=\u001b[0m \u001b[0mpickle\u001b[0m\u001b[1;33m.\u001b[0m\u001b[0mload\u001b[0m\u001b[1;33m(\u001b[0m\u001b[0mopen\u001b[0m\u001b[1;33m(\u001b[0m\u001b[1;34m'evenly_spaced_trajs.pkl'\u001b[0m\u001b[1;33m,\u001b[0m \u001b[1;34m'rb'\u001b[0m\u001b[1;33m)\u001b[0m\u001b[1;33m)\u001b[0m\u001b[1;33m\u001b[0m\u001b[1;33m\u001b[0m\u001b[0m\n\u001b[0m\u001b[0;32m     15\u001b[0m \u001b[0mtest_data\u001b[0m \u001b[1;33m=\u001b[0m \u001b[0mtf\u001b[0m\u001b[1;33m.\u001b[0m\u001b[0mcast\u001b[0m\u001b[1;33m(\u001b[0m\u001b[0mtest_data\u001b[0m\u001b[1;33m,\u001b[0m \u001b[0mdtype\u001b[0m\u001b[1;33m=\u001b[0m\u001b[0mhyp_params\u001b[0m\u001b[1;33m[\u001b[0m\u001b[1;34m'precision'\u001b[0m\u001b[1;33m]\u001b[0m\u001b[1;33m)\u001b[0m\u001b[1;33m\u001b[0m\u001b[1;33m\u001b[0m\u001b[0m\n\u001b[0;32m     16\u001b[0m \u001b[0mprint\u001b[0m\u001b[1;33m(\u001b[0m\u001b[1;34m\"Test data shape: {}\"\u001b[0m\u001b[1;33m.\u001b[0m\u001b[0mformat\u001b[0m\u001b[1;33m(\u001b[0m\u001b[0mtest_data\u001b[0m\u001b[1;33m.\u001b[0m\u001b[0mshape\u001b[0m\u001b[1;33m)\u001b[0m\u001b[1;33m)\u001b[0m\u001b[1;33m\u001b[0m\u001b[1;33m\u001b[0m\u001b[0m\n",
      "\u001b[1;31mFileNotFoundError\u001b[0m: [Errno 2] No such file or directory: 'evenly_spaced_trajs.pkl'"
     ]
    }
   ],
   "source": [
    "# SET THIS PATH (w/o file extension). Both '.pkl' and '.h5' files should have same name\n",
    "model_path = './trained_models/pendulum_2022-01-11-2321/epoch_75_loss_-1.3'\n",
    "hyp_params_path = model_path + '.pkl'\n",
    "weight_path = model_path + '.h5'\n",
    "\n",
    "# Load the hyper parameters\n",
    "hyp_params = pickle.load(open(hyp_params_path, 'rb'))\n",
    "\n",
    "# Set Tensorflow backend precision\n",
    "tf.keras.backend.set_floatx(hyp_params['precision'])\n",
    "print(\"Using precision: {}\\n\".format(tf.keras.backend.floatx()))\n",
    "\n",
    "# Load evenly spaced rings for test trajectories\n",
    "test_data = pickle.load(open('evenly_spaced_trajs.pkl', 'rb'))\n",
    "test_data = tf.cast(test_data, dtype=hyp_params['precision'])\n",
    "print(\"Test data shape: {}\".format(test_data.shape))"
   ]
  },
  {
   "cell_type": "code",
   "execution_count": null,
   "metadata": {
    "jupyter": {
     "outputs_hidden": false
    },
    "pycharm": {
     "name": "#%%\n"
    }
   },
   "outputs": [],
   "source": [
    "# Fix hyper parameters for running the model on test data\n",
    "hyp_params['pretrain'] = False\n",
    "hyp_params['batch_size'] = test_data.shape[0]\n",
    "hyp_params['num_time_steps'] = test_data.shape[1]\n",
    "hyp_params['latent_dim'] = test_data.shape[2]\n",
    "hyp_params['phys_dim'] = test_data.shape[2]\n",
    "\n",
    "# Load the trained DLDMD model weights\n",
    "model = dl.DLDMD(hyp_params)\n",
    "model.num_pred_steps = model.num_time_steps\n",
    "model.time_final = int(model.num_time_steps*model.delta_t)\n",
    "model(test_data)\n",
    "model.load_weights(weight_path)\n",
    "\n",
    "# Initialize the loss function\n",
    "loss = lf.LossDLDMD(hyp_params)\n",
    "print(\"Number of prediction steps: \", model.num_pred_steps)"
   ]
  },
  {
   "cell_type": "markdown",
   "metadata": {},
   "source": [
    "# Run the DLDMD model"
   ]
  },
  {
   "cell_type": "code",
   "execution_count": null,
   "metadata": {
    "jupyter": {
     "outputs_hidden": false
    },
    "pycharm": {
     "name": "#%%\n"
    }
   },
   "outputs": [],
   "source": [
    "with tf.device(DEVICE):\n",
    "    [y, x_ae, x_adv, y_adv, weights, evals, evecs, phi] = model(test_data, training=False)\n",
    "    losses = loss([y, x_ae, x_adv, y_adv, weights, evals, evecs, phi], test_data)\n",
    "\n",
    "print(\"Loss: {loss:2.7f}\".format(loss=losses.numpy()))\n",
    "print(\"Log10 Loss: {loss:2.7f}\".format(loss=np.log10(losses.numpy())))"
   ]
  },
  {
   "cell_type": "markdown",
   "metadata": {},
   "source": [
    "# Run standard DMD"
   ]
  },
  {
   "cell_type": "code",
   "execution_count": null,
   "metadata": {},
   "outputs": [],
   "source": [
    "# EDMD on the unencoded data\n",
    "[phim, evals, evecs, x_pred] = edmd(test_data, num_pred=test_data.shape[1])\n",
    "x_pred = np.real(tf.transpose(x_pred, perm=[0, 2, 1]))"
   ]
  },
  {
   "cell_type": "markdown",
   "metadata": {},
   "source": [
    "# Visualize results"
   ]
  },
  {
   "cell_type": "code",
   "execution_count": 3,
   "metadata": {
    "scrolled": false
   },
   "outputs": [
    {
     "ename": "NameError",
     "evalue": "name 'test_data' is not defined",
     "output_type": "error",
     "traceback": [
      "\u001b[1;31m---------------------------------------------------------------------------\u001b[0m",
      "\u001b[1;31mNameError\u001b[0m                                 Traceback (most recent call last)",
      "\u001b[1;32m~\\AppData\\Local\\Temp/ipykernel_6340/946951289.py\u001b[0m in \u001b[0;36m<module>\u001b[1;34m\u001b[0m\n\u001b[0;32m      8\u001b[0m \u001b[1;31m# DLDMD reconstruction\u001b[0m\u001b[1;33m\u001b[0m\u001b[1;33m\u001b[0m\u001b[0m\n\u001b[0;32m      9\u001b[0m \u001b[0mfig\u001b[0m \u001b[1;33m=\u001b[0m \u001b[0mplt\u001b[0m\u001b[1;33m.\u001b[0m\u001b[0mfigure\u001b[0m\u001b[1;33m(\u001b[0m\u001b[1;36m1\u001b[0m\u001b[1;33m,\u001b[0m \u001b[0mfigsize\u001b[0m\u001b[1;33m=\u001b[0m\u001b[0mfigsize\u001b[0m\u001b[1;33m)\u001b[0m\u001b[1;33m\u001b[0m\u001b[1;33m\u001b[0m\u001b[0m\n\u001b[1;32m---> 10\u001b[1;33m \u001b[1;32mfor\u001b[0m \u001b[0mii\u001b[0m \u001b[1;32min\u001b[0m \u001b[0mrange\u001b[0m\u001b[1;33m(\u001b[0m\u001b[1;36m0\u001b[0m\u001b[1;33m,\u001b[0m \u001b[0mtest_data\u001b[0m\u001b[1;33m.\u001b[0m\u001b[0mshape\u001b[0m\u001b[1;33m[\u001b[0m\u001b[1;36m0\u001b[0m\u001b[1;33m]\u001b[0m\u001b[1;33m,\u001b[0m \u001b[0mskip\u001b[0m\u001b[1;33m)\u001b[0m\u001b[1;33m:\u001b[0m\u001b[1;33m\u001b[0m\u001b[1;33m\u001b[0m\u001b[0m\n\u001b[0m\u001b[0;32m     11\u001b[0m     \u001b[0mplt\u001b[0m\u001b[1;33m.\u001b[0m\u001b[0mplot\u001b[0m\u001b[1;33m(\u001b[0m\u001b[0mtest_data\u001b[0m\u001b[1;33m[\u001b[0m\u001b[0mii\u001b[0m\u001b[1;33m,\u001b[0m \u001b[1;33m:\u001b[0m\u001b[1;33m,\u001b[0m \u001b[1;36m0\u001b[0m\u001b[1;33m]\u001b[0m\u001b[1;33m,\u001b[0m \u001b[0mtest_data\u001b[0m\u001b[1;33m[\u001b[0m\u001b[0mii\u001b[0m\u001b[1;33m,\u001b[0m \u001b[1;33m:\u001b[0m\u001b[1;33m,\u001b[0m \u001b[1;36m1\u001b[0m\u001b[1;33m]\u001b[0m\u001b[1;33m,\u001b[0m \u001b[1;34m'k'\u001b[0m\u001b[1;33m,\u001b[0m \u001b[0mlinestyle\u001b[0m\u001b[1;33m=\u001b[0m\u001b[1;34m'solid'\u001b[0m\u001b[1;33m,\u001b[0m \u001b[0mlw\u001b[0m\u001b[1;33m=\u001b[0m\u001b[0mlw\u001b[0m\u001b[1;33m)\u001b[0m\u001b[1;33m\u001b[0m\u001b[1;33m\u001b[0m\u001b[0m\n\u001b[0;32m     12\u001b[0m     \u001b[0mplt\u001b[0m\u001b[1;33m.\u001b[0m\u001b[0mplot\u001b[0m\u001b[1;33m(\u001b[0m\u001b[0mx_adv\u001b[0m\u001b[1;33m[\u001b[0m\u001b[0mii\u001b[0m\u001b[1;33m,\u001b[0m \u001b[1;33m:\u001b[0m\u001b[1;33m,\u001b[0m \u001b[1;36m0\u001b[0m\u001b[1;33m]\u001b[0m\u001b[1;33m,\u001b[0m \u001b[0mx_adv\u001b[0m\u001b[1;33m[\u001b[0m\u001b[0mii\u001b[0m\u001b[1;33m,\u001b[0m \u001b[1;33m:\u001b[0m\u001b[1;33m,\u001b[0m \u001b[1;36m1\u001b[0m\u001b[1;33m]\u001b[0m\u001b[1;33m,\u001b[0m \u001b[1;34m'k'\u001b[0m\u001b[1;33m,\u001b[0m \u001b[0mlinestyle\u001b[0m\u001b[1;33m=\u001b[0m\u001b[1;34m'dotted'\u001b[0m\u001b[1;33m,\u001b[0m \u001b[0mms\u001b[0m\u001b[1;33m=\u001b[0m\u001b[0mms\u001b[0m\u001b[1;33m)\u001b[0m\u001b[1;33m\u001b[0m\u001b[1;33m\u001b[0m\u001b[0m\n",
      "\u001b[1;31mNameError\u001b[0m: name 'test_data' is not defined"
     ]
    },
    {
     "data": {
      "text/plain": [
       "<Figure size 864x864 with 0 Axes>"
      ]
     },
     "metadata": {},
     "output_type": "display_data"
    }
   ],
   "source": [
    "fs = 20\n",
    "ts = 20\n",
    "lw = 2.0\n",
    "ms = 20.0\n",
    "figsize = (12, 12)\n",
    "skip = 1\n",
    "\n",
    "# DLDMD reconstruction\n",
    "fig = plt.figure(1, figsize=figsize)\n",
    "for ii in range(0, test_data.shape[0], skip):\n",
    "    plt.plot(test_data[ii, :, 0], test_data[ii, :, 1], 'k', linestyle='solid', lw=lw)\n",
    "    plt.plot(x_adv[ii, :, 0], x_adv[ii, :, 1], 'k', linestyle='dotted', ms=ms)\n",
    "plt.plot(test_data[ii, :, 0], test_data[ii, :, 1], 'k', linestyle='solid', lw=lw, label='Test data')\n",
    "plt.plot(x_adv[ii, 0, 0], x_adv[ii, 0, 1], 'k', linestyle='dotted', ms=20*ms, label='DLDMD')\n",
    "plt.xlabel(r'$x$', fontsize=fs)\n",
    "plt.ylabel(r'$\\dot{x}$', fontsize=fs)\n",
    "plt.legend(fontsize=fs, loc='upper right')\n",
    "plt.axis('equal')\n",
    "ax = plt.gca()\n",
    "ax.tick_params(axis='both', which='major', labelsize=ts)\n",
    "ax.tick_params(axis='both', which='minor', labelsize=ts)\n",
    "\n",
    "# DMD reconstruction\n",
    "fig = plt.figure(2, figsize=figsize)\n",
    "for ii in range(0, test_data.shape[0], skip):\n",
    "    plt.plot(test_data[ii, :, 0], test_data[ii, :, 1], 'k', linestyle='solid', lw=lw)\n",
    "    plt.plot(x_pred[ii, :, 0], x_pred[ii, :, 1], 'k', linestyle='dotted', ms=ms)\n",
    "plt.plot(test_data[ii, :, 0], test_data[ii, :, 1], 'k', linestyle='solid', lw=lw, label='Test data')\n",
    "plt.plot(x_pred[ii, 0, 0], x_pred[ii, 0, 1], 'k', linestyle='dotted', ms=20*ms, label='DMD')\n",
    "plt.xlabel(r'$x$', fontsize=fs)\n",
    "plt.ylabel(r'$\\dot{x}$', fontsize=fs)\n",
    "plt.legend(fontsize=fs)\n",
    "plt.axis('equal')\n",
    "ax = plt.gca()\n",
    "ax.tick_params(axis='both', which='major', labelsize=ts)\n",
    "ax.tick_params(axis='both', which='minor', labelsize=ts)\n",
    "\n",
    "# Plot the trajectories in phase space and latent space\n",
    "fig = plt.figure(3, figsize=figsize)\n",
    "for ii in range(0, test_data.shape[0], skip):\n",
    "    plt.plot(test_data[ii, :, 0], test_data[ii, :, 1], 'k', linestyle='solid', lw=lw)\n",
    "plt.xlabel(r'$x$', fontsize=fs)\n",
    "plt.ylabel(r'$\\dot{x}$', fontsize=fs)\n",
    "plt.axis('equal')\n",
    "ax = plt.gca()\n",
    "ax.tick_params(axis='both', which='major', labelsize=ts)\n",
    "ax.tick_params(axis='both', which='minor', labelsize=ts)\n",
    "\n",
    "# Plot the trajectories in latent space\n",
    "fig = plt.figure(4, figsize=figsize)\n",
    "for ii in range(y_adv.shape[0]):\n",
    "    plt.plot(y[ii, :, 0], y[ii, :, 1], 'k', linestyle='solid', ms=ms)\n",
    "plt.xlabel(r'$\\tilde{x}_{1}$', fontsize=fs)\n",
    "plt.ylabel(r'$\\tilde{x}_{2}$', fontsize=fs)\n",
    "plt.axis('equal')\n",
    "ax = plt.gca()\n",
    "ax.tick_params(axis='both', which='major', labelsize=ts)\n",
    "ax.tick_params(axis='both', which='minor', labelsize=ts)\n",
    "\n",
    "plt.show()"
   ]
  },
  {
   "cell_type": "code",
   "execution_count": null,
   "metadata": {},
   "outputs": [],
   "source": []
  }
 ],
 "metadata": {
  "kernelspec": {
   "display_name": "Python 3 (ipykernel)",
   "language": "python",
   "name": "python3"
  },
  "language_info": {
   "codemirror_mode": {
    "name": "ipython",
    "version": 3
   },
   "file_extension": ".py",
   "mimetype": "text/x-python",
   "name": "python",
   "nbconvert_exporter": "python",
   "pygments_lexer": "ipython3",
   "version": "3.9.7"
  }
 },
 "nbformat": 4,
 "nbformat_minor": 4
}
